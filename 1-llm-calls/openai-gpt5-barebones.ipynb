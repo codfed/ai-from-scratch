{
 "cells": [
  {
   "cell_type": "markdown",
   "id": "2c05b021",
   "metadata": {},
   "source": [
    "\n",
    "## Super Simple Barebones Single-Shot GPT5 prompt\n",
    "\n",
    "This is accomplished with two packages:\n",
    "1. openai (official client)\n",
    "2. dotenv (to handle our api keys)"
   ]
  },
  {
   "cell_type": "code",
   "execution_count": null,
   "id": "a11dfe24",
   "metadata": {},
   "outputs": [],
   "source": [
    "%pip install openai dotenv"
   ]
  },
  {
   "cell_type": "code",
   "execution_count": null,
   "id": "90a81ba1",
   "metadata": {},
   "outputs": [],
   "source": [
    "print(os.environ[\"OPENAI_API_KEY\"] )"
   ]
  },
  {
   "cell_type": "code",
   "execution_count": null,
   "id": "c3849e19",
   "metadata": {},
   "outputs": [],
   "source": [
    "from dotenv import load_dotenv\n",
    "import os\n",
    "\n",
    "load_dotenv()\n",
    "\n",
    "OPENAI_API_KEY = os.environ[\"OPENAI_API_KEY\"] "
   ]
  },
  {
   "cell_type": "markdown",
   "id": "a3641e73",
   "metadata": {},
   "source": [
    "### Make the call!!!\n",
    "\n",
    "This uses the chat completions enpoint"
   ]
  },
  {
   "cell_type": "code",
   "execution_count": null,
   "id": "88ef8365",
   "metadata": {},
   "outputs": [],
   "source": [
    "from openai import OpenAI\n",
    "client = OpenAI()\n",
    "\n",
    "completion = client.chat.completions.create(\n",
    "    model=\"gpt-5-mini\",\n",
    "    messages=[\n",
    "        {\n",
    "            \"role\": \"user\",\n",
    "            \"content\": \"Tell me how smart I am.\"\n",
    "        }\n",
    "    ]\n",
    ")\n",
    "\n",
    "print(completion.choices[0].message.content)"
   ]
  }
 ],
 "metadata": {
  "kernelspec": {
   "display_name": ".venv",
   "language": "python",
   "name": "python3"
  },
  "language_info": {
   "codemirror_mode": {
    "name": "ipython",
    "version": 3
   },
   "file_extension": ".py",
   "mimetype": "text/x-python",
   "name": "python",
   "nbconvert_exporter": "python",
   "pygments_lexer": "ipython3",
   "version": "3.13.3"
  }
 },
 "nbformat": 4,
 "nbformat_minor": 5
}
