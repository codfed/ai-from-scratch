{
 "cells": [
  {
   "cell_type": "markdown",
   "id": "2c05b021",
   "metadata": {},
   "source": [
    "\n",
    "## ✨Super Simple Barebones Single-Shot GPT5 prompt✨\n",
    "\n",
    "| Resource | Link |\n",
    "| --- | --- |\n",
    "| 🖥️ Anthropic Console | https://console.anthropic.com/ |\n",
    "| 📝 Anthropic Docs | https://docs.anthropic.com/en/docs/intro |\n",
    "\n",
    "\n",
    "\n",
    "#### We can make our first call with just these two packages\n",
    "1. anthropic (official client)\n",
    "2. dotenv (to handle our api keys)"
   ]
  },
  {
   "cell_type": "code",
   "execution_count": null,
   "id": "a11dfe24",
   "metadata": {},
   "outputs": [],
   "source": [
    "%pip install anthropic dotenv"
   ]
  },
  {
   "cell_type": "markdown",
   "id": "628e9733",
   "metadata": {},
   "source": [
    "#### Step 1: set the API key\n",
    "\n",
    "Anthropic's client requires two things before you can use it\n",
    "1. installation ✅\n",
    "2. set the API key\n",
    "\n",
    "In this cell we set the API key\n",
    "\n",
    "Go to https://console.anthropic.com/settings/keys to get your api key.\n",
    "\n",
    "Paste it in the .env file *(if you have questions about that, refer to `0-im-new-here`)*\n",
    "\n",
    "\n",
    "This next cell loads the API key from the .env file into your environment using `load_dotenv()`"
   ]
  },
  {
   "cell_type": "code",
   "execution_count": null,
   "id": "c3849e19",
   "metadata": {},
   "outputs": [],
   "source": [
    "from dotenv import load_dotenv\n",
    "import os\n",
    "\n",
    "load_dotenv()\n",
    "\n",
    "ANTHROPIC_API_KEY = os.environ[\"ANTHROPIC_API_KEY\"] "
   ]
  },
  {
   "cell_type": "markdown",
   "id": "a3641e73",
   "metadata": {},
   "source": [
    "#### Step 2: Make the call!!!\n",
    "\n",
    "This uses the chat completions enpoint"
   ]
  },
  {
   "cell_type": "code",
   "execution_count": null,
   "id": "88ef8365",
   "metadata": {},
   "outputs": [],
   "source": [
    "import anthropic\n",
    "\n",
    "client = anthropic.Anthropic()\n",
    "\n",
    "message = client.messages.create(\n",
    "    model=\"claude-sonnet-4-20250514\",\n",
    "    max_tokens=1000,\n",
    "    messages=[\n",
    "        {\n",
    "            \"role\": \"user\",\n",
    "            \"content\": \"What should I search for to find the latest developments in renewable energy?\"\n",
    "        }\n",
    "    ]\n",
    ")\n",
    "\n",
    "print(message.content)"
   ]
  }
 ],
 "metadata": {
  "kernelspec": {
   "display_name": ".venv",
   "language": "python",
   "name": "python3"
  },
  "language_info": {
   "codemirror_mode": {
    "name": "ipython",
    "version": 3
   },
   "file_extension": ".py",
   "mimetype": "text/x-python",
   "name": "python",
   "nbconvert_exporter": "python",
   "pygments_lexer": "ipython3",
   "version": "3.13.7"
  }
 },
 "nbformat": 4,
 "nbformat_minor": 5
}
