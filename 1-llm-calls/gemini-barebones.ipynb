{
 "cells": [
  {
   "cell_type": "markdown",
   "id": "2c05b021",
   "metadata": {},
   "source": [
    "\n",
    "## ✨Super Simple Barebones Single-Shot Gemini prompt✨\n",
    "\n",
    "| Resource | Link |\n",
    "| --- | --- |\n",
    "| 🖥️ Gemini Console | https://aistudio.google.com/ |\n",
    "| 📝 Gemini Docs | https://ai.google.dev/gemini-api/docs |\n",
    "\n",
    "#### We can make this first call with only two packages:\n",
    "1. google-genai (official client)\n",
    "2. dotenv (to handle our api keys)"
   ]
  },
  {
   "cell_type": "code",
   "execution_count": null,
   "id": "a11dfe24",
   "metadata": {},
   "outputs": [],
   "source": [
    "%pip install google-genai dotenv"
   ]
  },
  {
   "cell_type": "markdown",
   "id": "eb3127ee",
   "metadata": {},
   "source": [
    "### Step 1: Set the api key\n",
    "\n",
    "Gemini's client requires two things before you can use it\n",
    "1. installation ✅\n",
    "2. store the API key in a variable named `GEMINI_API_KEY`\n",
    "\n",
    "Go to https://aistudio.google.com/ to get your api key.\n",
    "\n",
    "Paste it in the .env file *(if you have questions about that, refer to `0-im-new-here`)*\n",
    "\n",
    "\n",
    "This next cell loads the API key from the .env file into your environment using `load_dotenv()`"
   ]
  },
  {
   "cell_type": "code",
   "execution_count": null,
   "id": "c3849e19",
   "metadata": {},
   "outputs": [],
   "source": [
    "from dotenv import load_dotenv\n",
    "import os\n",
    "\n",
    "load_dotenv()\n",
    "\n",
    "GEMINI_API_KEY = os.environ[\"GEMINI_API_KEY\"] "
   ]
  },
  {
   "cell_type": "markdown",
   "id": "a3641e73",
   "metadata": {},
   "source": [
    "### Step 2: Make the call!!!\n",
    "\n",
    "This uses the chat completions enpoint in the most simple way."
   ]
  },
  {
   "cell_type": "code",
   "execution_count": null,
   "id": "88ef8365",
   "metadata": {},
   "outputs": [],
   "source": [
    "from google import genai\n",
    "\n",
    "# The client gets the API key from the environment variable `GEMINI_API_KEY`.\n",
    "client = genai.Client()\n",
    "\n",
    "response = client.models.generate_content(\n",
    "    model=\"gemini-2.5-flash\", contents=\"Explain how AI works in a few words\"\n",
    ")\n",
    "print(response.text)"
   ]
  }
 ],
 "metadata": {
  "kernelspec": {
   "display_name": ".venv",
   "language": "python",
   "name": "python3"
  },
  "language_info": {
   "codemirror_mode": {
    "name": "ipython",
    "version": 3
   },
   "file_extension": ".py",
   "mimetype": "text/x-python",
   "name": "python",
   "nbconvert_exporter": "python",
   "pygments_lexer": "ipython3",
   "version": "3.13.3"
  }
 },
 "nbformat": 4,
 "nbformat_minor": 5
}
