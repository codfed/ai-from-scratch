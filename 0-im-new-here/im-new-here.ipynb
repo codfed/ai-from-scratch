{
 "cells": [
  {
   "cell_type": "markdown",
   "id": "2f16b8cc",
   "metadata": {},
   "source": [
    "## Welcome to my Python Notebook!!!\n",
    "\n",
    "##### These are extremely useful when showing coding concepts because they are essentially code-enabled blog posts.\n",
    "\n",
    "By the end of this notebook you’ll:\n",
    "- 🔐 Load an API key securely with .env\n",
    "- 🐍 Call OpenAI’s API with Python\n",
    "- 🤖 See your first AI-generated response\n",
    "\n",
    "There are two types of cells in these things. You're currently reading a markdown cell."
   ]
  },
  {
   "cell_type": "code",
   "execution_count": null,
   "id": "3a55a58a",
   "metadata": {},
   "outputs": [],
   "source": [
    "# This is a code cell\n",
    "# You can execute it by clicking the play button or pressing shift+enter\n",
    "print(\"you will see this text right below the cell after it's executed\")"
   ]
  },
  {
   "cell_type": "markdown",
   "id": "20877817",
   "metadata": {},
   "source": [
    "### Now let's get the environment set up!\n",
    "\n",
    "When you run the next cell it will install the openai and dotenv packages. Try it."
   ]
  },
  {
   "cell_type": "code",
   "execution_count": null,
   "id": "8f151aa6",
   "metadata": {},
   "outputs": [],
   "source": [
    "%pip install openai dotenv "
   ]
  },
  {
   "cell_type": "markdown",
   "id": "2d4601b2",
   "metadata": {},
   "source": [
    "### Breaking down the pip install\n",
    "\n",
    "``` %pip install openai dotenv ```\n",
    "\n",
    "| command | description |\n",
    "| --- | --- |\n",
    "| ```%``` | flag for terminal commands (rather than python code) |\n",
    "| ```pip``` | is Python’s package manager — kind of like an “app store” for Python code |\n",
    "| ```install``` | tells it to download and add a package (a reusable chunk of code) to your Python environment |\n",
    "| ```openai``` | official Python package from OpenAI (allows us to connect to the API without raw HTTP requests) |\n",
    "| ```dotenv``` | helper package for managing our api keys |\n"
   ]
  },
  {
   "cell_type": "markdown",
   "id": "436eba2e",
   "metadata": {},
   "source": [
    "#### Now let's talk about the dotenv file\n",
    "\n",
    "Rename the `sample.env` file to `.env`\n",
    "\n",
    "When you open the file you see it's full of key-value pairs. \n",
    "\n",
    "NOTE: the values do not need quotation marks. "
   ]
  },
  {
   "cell_type": "code",
   "execution_count": null,
   "id": "35d5a6cb",
   "metadata": {},
   "outputs": [],
   "source": [
    "# this will load the .env file into the environment\n",
    "\n",
    "from dotenv import load_dotenv\n",
    "import os\n",
    "\n",
    "# this will load the .env file into the environment\n",
    "load_dotenv()\n",
    "\n",
    "print(f'openai: {os.getenv('OPENAI-API-KEY')}')\n",
    "print(f'anthropic: {os.getenv('ANTHROPIC-API-KEY')}')"
   ]
  },
  {
   "cell_type": "markdown",
   "id": "cf8d58a3",
   "metadata": {},
   "source": [
    "Now plug your openai api key into the .env file and run the cell below"
   ]
  },
  {
   "cell_type": "code",
   "execution_count": null,
   "id": "55c7db3b",
   "metadata": {},
   "outputs": [],
   "source": [
    "# you need to run this after each time you change the .env file\n",
    "load_dotenv()\n",
    " \n",
    "OPENAI_API_KEY = os.getenv('OPENAI_API_KEY') \n",
    "\n",
    "print(OPENAI_API_KEY)"
   ]
  },
  {
   "cell_type": "markdown",
   "id": "6f5b6141",
   "metadata": {},
   "source": [
    "If you see your official OpenAI API key above you're set to make your first call!\n",
    "\n",
    "*It works without one, but it will prompt you to enter it each time you use it.*"
   ]
  },
  {
   "cell_type": "code",
   "execution_count": null,
   "id": "cff174eb",
   "metadata": {},
   "outputs": [],
   "source": [
    "from openai import OpenAI\n",
    "client = OpenAI()\n",
    "\n",
    "completion = client.chat.completions.create(\n",
    "    model=\"gpt-5-mini\",\n",
    "    messages=[\n",
    "        {\n",
    "            \"role\": \"user\",\n",
    "            \"content\": \"This is my first call to the OpenAI API. Give me 3 facts worthy of dinner conversation. Limit each fact to 20 words.\"\n",
    "        }\n",
    "    ]\n",
    ")\n",
    "\n",
    "print(completion.choices[0].message.content)"
   ]
  }
 ],
 "metadata": {
  "kernelspec": {
   "display_name": ".venv",
   "language": "python",
   "name": "python3"
  },
  "language_info": {
   "codemirror_mode": {
    "name": "ipython",
    "version": 3
   },
   "file_extension": ".py",
   "mimetype": "text/x-python",
   "name": "python",
   "nbconvert_exporter": "python",
   "pygments_lexer": "ipython3",
   "version": "3.13.3"
  }
 },
 "nbformat": 4,
 "nbformat_minor": 5
}
